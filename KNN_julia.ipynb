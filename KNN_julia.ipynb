{
 "cells": [
  {
   "attachments": {},
   "cell_type": "markdown",
   "metadata": {},
   "source": [
    "### The k Nearest Neighbor (KNN) is an algorithm used in problem of classifications.\n",
    "It is a good alternative to the logistic regression.\n",
    "To use the KNN we need to normalize the data and for this we can use the MinMaxScaler, the StandardScaler (use the standard deviation), MaxAbsScaler, Normalize, and so on."
   ]
  }
 ],
 "metadata": {
  "kernelspec": {
   "display_name": "Julia 1.8.3",
   "language": "julia",
   "name": "julia-1.8"
  },
  "language_info": {
   "file_extension": ".jl",
   "mimetype": "application/julia",
   "name": "julia",
   "version": "1.8.3"
  },
  "orig_nbformat": 4,
  "vscode": {
   "interpreter": {
    "hash": "2bbebc88f3d42ac602a14beeb38a753d1e3b19758092826cc8966aa08ea7cefc"
   }
  }
 },
 "nbformat": 4,
 "nbformat_minor": 2
}
